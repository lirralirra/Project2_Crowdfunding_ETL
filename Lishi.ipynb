{
 "cells": [
  {
   "cell_type": "code",
   "id": "initial_id",
   "metadata": {
    "collapsed": true,
    "ExecuteTime": {
     "end_time": "2024-11-13T10:04:14.968612Z",
     "start_time": "2024-11-13T10:04:14.953768Z"
    }
   },
   "source": [
    "import pandas as pd\n",
    "\n",
    "# Load the CSV into a DataFrame\n",
    "df1 = pd.read_csv('Resources/campaign.csv',parse_dates=['launch_date', 'end_date'])\n",
    "df2 = pd.read_csv('Resources/category.csv')\n",
    "df3= pd.read_csv('Resources/contacts.csv')\n",
    "df4 = pd.read_csv('Resources/subcategory.csv')\n",
    "\n",
    "df1.info()"
   ],
   "outputs": [
    {
     "name": "stdout",
     "output_type": "stream",
     "text": [
      "<class 'pandas.core.frame.DataFrame'>\n",
      "RangeIndex: 1000 entries, 0 to 999\n",
      "Data columns (total 14 columns):\n",
      " #   Column          Non-Null Count  Dtype         \n",
      "---  ------          --------------  -----         \n",
      " 0   cf_id           1000 non-null   int64         \n",
      " 1   contact_id      1000 non-null   int64         \n",
      " 2   company_name    1000 non-null   object        \n",
      " 3   description     1000 non-null   object        \n",
      " 4   goal            1000 non-null   float64       \n",
      " 5   pledged         1000 non-null   float64       \n",
      " 6   outcome         1000 non-null   object        \n",
      " 7   backers_count   1000 non-null   int64         \n",
      " 8   country         1000 non-null   object        \n",
      " 9   currency        1000 non-null   object        \n",
      " 10  launch_date     1000 non-null   datetime64[ns]\n",
      " 11  end_date        1000 non-null   datetime64[ns]\n",
      " 12  category_id     1000 non-null   object        \n",
      " 13  subcategory_id  1000 non-null   object        \n",
      "dtypes: datetime64[ns](2), float64(2), int64(3), object(7)\n",
      "memory usage: 109.5+ KB\n"
     ]
    }
   ],
   "execution_count": 3
  },
  {
   "metadata": {
    "ExecuteTime": {
     "end_time": "2024-11-13T09:51:18.319970Z",
     "start_time": "2024-11-13T09:51:18.314917Z"
    }
   },
   "cell_type": "code",
   "source": [
    "# Get info for each DataFrame\n",
    "info_df1 = df1.info()"
   ],
   "id": "78330b2ce6151d1b",
   "outputs": [
    {
     "name": "stdout",
     "output_type": "stream",
     "text": [
      "<class 'pandas.core.frame.DataFrame'>\n",
      "RangeIndex: 1000 entries, 0 to 999\n",
      "Data columns (total 14 columns):\n",
      " #   Column          Non-Null Count  Dtype         \n",
      "---  ------          --------------  -----         \n",
      " 0   cf_id           1000 non-null   int64         \n",
      " 1   contact_id      1000 non-null   int64         \n",
      " 2   company_name    1000 non-null   object        \n",
      " 3   description     1000 non-null   object        \n",
      " 4   goal            1000 non-null   float64       \n",
      " 5   pledged         1000 non-null   float64       \n",
      " 6   outcome         1000 non-null   object        \n",
      " 7   backers_count   1000 non-null   int64         \n",
      " 8   country         1000 non-null   object        \n",
      " 9   currency        1000 non-null   object        \n",
      " 10  launch_date     1000 non-null   datetime64[ns]\n",
      " 11  end_date        1000 non-null   datetime64[ns]\n",
      " 12  category_id     1000 non-null   object        \n",
      " 13  subcategory_id  1000 non-null   object        \n",
      "dtypes: datetime64[ns](2), float64(2), int64(3), object(7)\n",
      "memory usage: 109.5+ KB\n"
     ]
    }
   ],
   "execution_count": 2
  },
  {
   "metadata": {
    "ExecuteTime": {
     "end_time": "2024-11-13T10:19:15.197827Z",
     "start_time": "2024-11-13T10:19:15.192848Z"
    }
   },
   "cell_type": "code",
   "source": [
    "\n",
    "info_df2 = df2.info()"
   ],
   "id": "e002fe1bf4259f06",
   "outputs": [
    {
     "name": "stdout",
     "output_type": "stream",
     "text": [
      "<class 'pandas.core.frame.DataFrame'>\n",
      "RangeIndex: 9 entries, 0 to 8\n",
      "Data columns (total 2 columns):\n",
      " #   Column       Non-Null Count  Dtype \n",
      "---  ------       --------------  ----- \n",
      " 0   category_id  9 non-null      object\n",
      " 1   category     9 non-null      object\n",
      "dtypes: object(2)\n",
      "memory usage: 272.0+ bytes\n"
     ]
    }
   ],
   "execution_count": 4
  },
  {
   "metadata": {
    "ExecuteTime": {
     "end_time": "2024-11-13T09:07:44.267782Z",
     "start_time": "2024-11-13T09:07:44.260472Z"
    }
   },
   "cell_type": "code",
   "source": [
    "\n",
    "info_df3 = df3.info()"
   ],
   "id": "bb2072b8734c9f52",
   "outputs": [
    {
     "name": "stdout",
     "output_type": "stream",
     "text": [
      "<class 'pandas.core.frame.DataFrame'>\n",
      "RangeIndex: 2000 entries, 0 to 1999\n",
      "Data columns (total 4 columns):\n",
      " #   Column      Non-Null Count  Dtype \n",
      "---  ------      --------------  ----- \n",
      " 0   contact_id  2000 non-null   int64 \n",
      " 1   first_name  2000 non-null   object\n",
      " 2   last_name   2000 non-null   object\n",
      " 3   email       2000 non-null   object\n",
      "dtypes: int64(1), object(3)\n",
      "memory usage: 62.6+ KB\n"
     ]
    }
   ],
   "execution_count": 4
  },
  {
   "metadata": {
    "ExecuteTime": {
     "end_time": "2024-11-13T10:19:34.233842Z",
     "start_time": "2024-11-13T10:19:34.229394Z"
    }
   },
   "cell_type": "code",
   "source": [
    "\n",
    "info_df4 = df4.info()"
   ],
   "id": "7a588d11e2a084c3",
   "outputs": [
    {
     "name": "stdout",
     "output_type": "stream",
     "text": [
      "<class 'pandas.core.frame.DataFrame'>\n",
      "RangeIndex: 24 entries, 0 to 23\n",
      "Data columns (total 2 columns):\n",
      " #   Column          Non-Null Count  Dtype \n",
      "---  ------          --------------  ----- \n",
      " 0   subcategory_id  24 non-null     object\n",
      " 1   subcategory     24 non-null     object\n",
      "dtypes: object(2)\n",
      "memory usage: 512.0+ bytes\n"
     ]
    }
   ],
   "execution_count": 5
  },
  {
   "metadata": {},
   "cell_type": "code",
   "source": "df1",
   "id": "6856ae40bd628ef5",
   "outputs": [],
   "execution_count": null
  },
  {
   "metadata": {},
   "cell_type": "code",
   "source": [
    "import pandas as pd\n",
    "\n",
    "# Load your CSV file into a DataFrame\n",
    "df1 = pd.read_csv('Resources/campaign.csv')\n",
    "\n",
    "# Convert launch_date and end_date to datetime format\n",
    "df1['launch_date'] = pd.to_datetime(df1['launch_date'], errors='coerce')  # Converts to datetime, coerce invalid formats to NaT\n",
    "df1['end_date'] = pd.to_datetime(df1['end_date'], errors='coerce')"
   ],
   "id": "807c861cbf02943a",
   "outputs": [],
   "execution_count": null
  },
  {
   "metadata": {},
   "cell_type": "code",
   "source": [
    "\n",
    "df1.info()"
   ],
   "id": "a05838a06629d25b",
   "outputs": [],
   "execution_count": null
  },
  {
   "metadata": {},
   "cell_type": "code",
   "source": "",
   "id": "530deb8fca6011e4",
   "outputs": [],
   "execution_count": null
  }
 ],
 "metadata": {
  "kernelspec": {
   "display_name": "Python 3",
   "language": "python",
   "name": "python3"
  },
  "language_info": {
   "codemirror_mode": {
    "name": "ipython",
    "version": 2
   },
   "file_extension": ".py",
   "mimetype": "text/x-python",
   "name": "python",
   "nbconvert_exporter": "python",
   "pygments_lexer": "ipython2",
   "version": "2.7.6"
  }
 },
 "nbformat": 4,
 "nbformat_minor": 5
}
